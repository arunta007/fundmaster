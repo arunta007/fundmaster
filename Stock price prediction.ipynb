{
 "cells": [
  {
   "cell_type": "code",
   "execution_count": 305,
   "metadata": {},
   "outputs": [],
   "source": [
    "import numpy as np\n",
    "import pandas as pd\n",
    "import seaborn as sns\n",
    "sns.set_palette('husl')\n",
    "import matplotlib.pyplot as plt\n",
    "%matplotlib inline\n",
    "\n",
    "from sklearn import metrics\n",
    "from sklearn.model_selection import train_test_split\n",
    "from sklearn.model_selection import StratifiedShuffleSplit, KFold\n",
    "from sklearn.utils import resample\n",
    "\n",
    "\n",
    "from sklearn.linear_model import LogisticRegression\n",
    "from sklearn.neural_network import MLPClassifier\n",
    "from sklearn.neighbors import KNeighborsClassifier\n",
    "from sklearn.svm import SVC\n",
    "from sklearn.svm import LinearSVC\n",
    "from sklearn.gaussian_process import GaussianProcessClassifier\n",
    "from sklearn.gaussian_process.kernels import RBF\n",
    "from sklearn.tree import DecisionTreeClassifier\n",
    "from sklearn.ensemble import RandomForestClassifier, AdaBoostClassifier\n",
    "from sklearn.naive_bayes import GaussianNB\n",
    "from sklearn.discriminant_analysis import QuadraticDiscriminantAnalysis"
   ]
  },
  {
   "cell_type": "code",
   "execution_count": 331,
   "metadata": {},
   "outputs": [],
   "source": [
    "#Loading the input dataset\n",
    "data = pd.read_csv('input_data_set_simple_price_range.csv')\n",
    "data = data.dropna().reset_index(drop=True)"
   ]
  },
  {
   "cell_type": "markdown",
   "metadata": {},
   "source": [
    "## Preview of Data"
   ]
  },
  {
   "cell_type": "code",
   "execution_count": 237,
   "metadata": {},
   "outputs": [
    {
     "data": {
      "text/html": [
       "<div>\n",
       "<style scoped>\n",
       "    .dataframe tbody tr th:only-of-type {\n",
       "        vertical-align: middle;\n",
       "    }\n",
       "\n",
       "    .dataframe tbody tr th {\n",
       "        vertical-align: top;\n",
       "    }\n",
       "\n",
       "    .dataframe thead th {\n",
       "        text-align: right;\n",
       "    }\n",
       "</style>\n",
       "<table border=\"1\" class=\"dataframe\">\n",
       "  <thead>\n",
       "    <tr style=\"text-align: right;\">\n",
       "      <th></th>\n",
       "      <th>Unnamed: 0</th>\n",
       "      <th>symbol</th>\n",
       "      <th>date</th>\n",
       "      <th>Sales Change</th>\n",
       "      <th>Net Profit Margin Change</th>\n",
       "      <th>EPS Change</th>\n",
       "      <th>prev_qtr_sales_change</th>\n",
       "      <th>prev_qtr_npm_change</th>\n",
       "      <th>prev_qtr_eps_change</th>\n",
       "      <th>Price Change</th>\n",
       "    </tr>\n",
       "  </thead>\n",
       "  <tbody>\n",
       "    <tr>\n",
       "      <th>0</th>\n",
       "      <td>0</td>\n",
       "      <td>3IINFOTECH</td>\n",
       "      <td>2015-06-30</td>\n",
       "      <td>-12.235698</td>\n",
       "      <td>-9.945304</td>\n",
       "      <td>8.854167</td>\n",
       "      <td>-12.508025</td>\n",
       "      <td>71.061079</td>\n",
       "      <td>74.415205</td>\n",
       "      <td>0.0</td>\n",
       "    </tr>\n",
       "    <tr>\n",
       "      <th>1</th>\n",
       "      <td>1</td>\n",
       "      <td>3IINFOTECH</td>\n",
       "      <td>2015-09-30</td>\n",
       "      <td>-22.356635</td>\n",
       "      <td>-43.559135</td>\n",
       "      <td>-4.945055</td>\n",
       "      <td>2.824997</td>\n",
       "      <td>-7.205874</td>\n",
       "      <td>-9.142857</td>\n",
       "      <td>0.0</td>\n",
       "    </tr>\n",
       "    <tr>\n",
       "      <th>2</th>\n",
       "      <td>2</td>\n",
       "      <td>3IINFOTECH</td>\n",
       "      <td>2015-12-31</td>\n",
       "      <td>170.689981</td>\n",
       "      <td>93.524927</td>\n",
       "      <td>83.163265</td>\n",
       "      <td>240.616080</td>\n",
       "      <td>79.254084</td>\n",
       "      <td>30.890052</td>\n",
       "      <td>0.0</td>\n",
       "    </tr>\n",
       "    <tr>\n",
       "      <th>3</th>\n",
       "      <td>3</td>\n",
       "      <td>3IINFOTECH</td>\n",
       "      <td>2016-03-31</td>\n",
       "      <td>190.766103</td>\n",
       "      <td>30.327574</td>\n",
       "      <td>-235.672515</td>\n",
       "      <td>-5.111910</td>\n",
       "      <td>-982.498732</td>\n",
       "      <td>-1639.393939</td>\n",
       "      <td>0.0</td>\n",
       "    </tr>\n",
       "    <tr>\n",
       "      <th>4</th>\n",
       "      <td>4</td>\n",
       "      <td>3IINFOTECH</td>\n",
       "      <td>2016-06-30</td>\n",
       "      <td>212.009294</td>\n",
       "      <td>106.364604</td>\n",
       "      <td>117.714286</td>\n",
       "      <td>-6.115915</td>\n",
       "      <td>102.643582</td>\n",
       "      <td>101.350174</td>\n",
       "      <td>0.0</td>\n",
       "    </tr>\n",
       "  </tbody>\n",
       "</table>\n",
       "</div>"
      ],
      "text/plain": [
       "   Unnamed: 0      symbol        date  Sales Change  Net Profit Margin Change  \\\n",
       "0           0  3IINFOTECH  2015-06-30    -12.235698                 -9.945304   \n",
       "1           1  3IINFOTECH  2015-09-30    -22.356635                -43.559135   \n",
       "2           2  3IINFOTECH  2015-12-31    170.689981                 93.524927   \n",
       "3           3  3IINFOTECH  2016-03-31    190.766103                 30.327574   \n",
       "4           4  3IINFOTECH  2016-06-30    212.009294                106.364604   \n",
       "\n",
       "   EPS Change  prev_qtr_sales_change  prev_qtr_npm_change  \\\n",
       "0    8.854167             -12.508025            71.061079   \n",
       "1   -4.945055               2.824997            -7.205874   \n",
       "2   83.163265             240.616080            79.254084   \n",
       "3 -235.672515              -5.111910          -982.498732   \n",
       "4  117.714286              -6.115915           102.643582   \n",
       "\n",
       "   prev_qtr_eps_change  Price Change  \n",
       "0            74.415205           0.0  \n",
       "1            -9.142857           0.0  \n",
       "2            30.890052           0.0  \n",
       "3         -1639.393939           0.0  \n",
       "4           101.350174           0.0  "
      ]
     },
     "execution_count": 237,
     "metadata": {},
     "output_type": "execute_result"
    }
   ],
   "source": [
    "data.head()"
   ]
  },
  {
   "cell_type": "code",
   "execution_count": 238,
   "metadata": {
    "scrolled": true
   },
   "outputs": [
    {
     "name": "stdout",
     "output_type": "stream",
     "text": [
      "<class 'pandas.core.frame.DataFrame'>\n",
      "RangeIndex: 10201 entries, 0 to 10200\n",
      "Data columns (total 10 columns):\n",
      " #   Column                    Non-Null Count  Dtype  \n",
      "---  ------                    --------------  -----  \n",
      " 0   Unnamed: 0                10201 non-null  int64  \n",
      " 1   symbol                    10201 non-null  object \n",
      " 2   date                      10201 non-null  object \n",
      " 3   Sales Change              10201 non-null  float64\n",
      " 4   Net Profit Margin Change  10201 non-null  float64\n",
      " 5   EPS Change                10201 non-null  float64\n",
      " 6   prev_qtr_sales_change     10201 non-null  float64\n",
      " 7   prev_qtr_npm_change       10201 non-null  float64\n",
      " 8   prev_qtr_eps_change       10201 non-null  float64\n",
      " 9   Price Change              10201 non-null  float64\n",
      "dtypes: float64(7), int64(1), object(2)\n",
      "memory usage: 797.1+ KB\n"
     ]
    }
   ],
   "source": [
    "data.info()"
   ]
  },
  {
   "cell_type": "code",
   "execution_count": 239,
   "metadata": {},
   "outputs": [
    {
     "data": {
      "text/html": [
       "<div>\n",
       "<style scoped>\n",
       "    .dataframe tbody tr th:only-of-type {\n",
       "        vertical-align: middle;\n",
       "    }\n",
       "\n",
       "    .dataframe tbody tr th {\n",
       "        vertical-align: top;\n",
       "    }\n",
       "\n",
       "    .dataframe thead th {\n",
       "        text-align: right;\n",
       "    }\n",
       "</style>\n",
       "<table border=\"1\" class=\"dataframe\">\n",
       "  <thead>\n",
       "    <tr style=\"text-align: right;\">\n",
       "      <th></th>\n",
       "      <th>Unnamed: 0</th>\n",
       "      <th>Sales Change</th>\n",
       "      <th>Net Profit Margin Change</th>\n",
       "      <th>EPS Change</th>\n",
       "      <th>prev_qtr_sales_change</th>\n",
       "      <th>prev_qtr_npm_change</th>\n",
       "      <th>prev_qtr_eps_change</th>\n",
       "      <th>Price Change</th>\n",
       "    </tr>\n",
       "  </thead>\n",
       "  <tbody>\n",
       "    <tr>\n",
       "      <th>count</th>\n",
       "      <td>10201.000000</td>\n",
       "      <td>10201.000000</td>\n",
       "      <td>10201.000000</td>\n",
       "      <td>10201.000000</td>\n",
       "      <td>10201.000000</td>\n",
       "      <td>10201.000000</td>\n",
       "      <td>10201.000000</td>\n",
       "      <td>10201.000000</td>\n",
       "    </tr>\n",
       "    <tr>\n",
       "      <th>mean</th>\n",
       "      <td>5101.716302</td>\n",
       "      <td>94.394253</td>\n",
       "      <td>45.504628</td>\n",
       "      <td>82.020755</td>\n",
       "      <td>24.143334</td>\n",
       "      <td>45.555629</td>\n",
       "      <td>61.550902</td>\n",
       "      <td>0.016959</td>\n",
       "    </tr>\n",
       "    <tr>\n",
       "      <th>std</th>\n",
       "      <td>2945.341132</td>\n",
       "      <td>1441.607107</td>\n",
       "      <td>2488.635221</td>\n",
       "      <td>3300.687124</td>\n",
       "      <td>532.932691</td>\n",
       "      <td>3495.877719</td>\n",
       "      <td>3520.963210</td>\n",
       "      <td>0.129125</td>\n",
       "    </tr>\n",
       "    <tr>\n",
       "      <th>min</th>\n",
       "      <td>0.000000</td>\n",
       "      <td>-99.699596</td>\n",
       "      <td>-30956.439833</td>\n",
       "      <td>-49600.000000</td>\n",
       "      <td>-99.451604</td>\n",
       "      <td>-35300.180220</td>\n",
       "      <td>-106900.000000</td>\n",
       "      <td>0.000000</td>\n",
       "    </tr>\n",
       "    <tr>\n",
       "      <th>25%</th>\n",
       "      <td>2552.000000</td>\n",
       "      <td>-0.968205</td>\n",
       "      <td>-27.051342</td>\n",
       "      <td>-29.032258</td>\n",
       "      <td>-5.723510</td>\n",
       "      <td>-25.031457</td>\n",
       "      <td>-28.708487</td>\n",
       "      <td>0.000000</td>\n",
       "    </tr>\n",
       "    <tr>\n",
       "      <th>50%</th>\n",
       "      <td>5102.000000</td>\n",
       "      <td>9.873000</td>\n",
       "      <td>2.034683</td>\n",
       "      <td>11.049724</td>\n",
       "      <td>2.499349</td>\n",
       "      <td>0.256506</td>\n",
       "      <td>2.928870</td>\n",
       "      <td>0.000000</td>\n",
       "    </tr>\n",
       "    <tr>\n",
       "      <th>75%</th>\n",
       "      <td>7652.000000</td>\n",
       "      <td>23.141814</td>\n",
       "      <td>38.283802</td>\n",
       "      <td>55.021834</td>\n",
       "      <td>11.586774</td>\n",
       "      <td>31.311556</td>\n",
       "      <td>42.196532</td>\n",
       "      <td>0.000000</td>\n",
       "    </tr>\n",
       "    <tr>\n",
       "      <th>max</th>\n",
       "      <td>10202.000000</td>\n",
       "      <td>86179.525547</td>\n",
       "      <td>213504.672594</td>\n",
       "      <td>311400.000000</td>\n",
       "      <td>40161.750205</td>\n",
       "      <td>335333.906692</td>\n",
       "      <td>263900.000000</td>\n",
       "      <td>1.000000</td>\n",
       "    </tr>\n",
       "  </tbody>\n",
       "</table>\n",
       "</div>"
      ],
      "text/plain": [
       "         Unnamed: 0  Sales Change  Net Profit Margin Change     EPS Change  \\\n",
       "count  10201.000000  10201.000000              10201.000000   10201.000000   \n",
       "mean    5101.716302     94.394253                 45.504628      82.020755   \n",
       "std     2945.341132   1441.607107               2488.635221    3300.687124   \n",
       "min        0.000000    -99.699596             -30956.439833  -49600.000000   \n",
       "25%     2552.000000     -0.968205                -27.051342     -29.032258   \n",
       "50%     5102.000000      9.873000                  2.034683      11.049724   \n",
       "75%     7652.000000     23.141814                 38.283802      55.021834   \n",
       "max    10202.000000  86179.525547             213504.672594  311400.000000   \n",
       "\n",
       "       prev_qtr_sales_change  prev_qtr_npm_change  prev_qtr_eps_change  \\\n",
       "count           10201.000000         10201.000000         10201.000000   \n",
       "mean               24.143334            45.555629            61.550902   \n",
       "std               532.932691          3495.877719          3520.963210   \n",
       "min               -99.451604        -35300.180220       -106900.000000   \n",
       "25%                -5.723510           -25.031457           -28.708487   \n",
       "50%                 2.499349             0.256506             2.928870   \n",
       "75%                11.586774            31.311556            42.196532   \n",
       "max             40161.750205        335333.906692        263900.000000   \n",
       "\n",
       "       Price Change  \n",
       "count  10201.000000  \n",
       "mean       0.016959  \n",
       "std        0.129125  \n",
       "min        0.000000  \n",
       "25%        0.000000  \n",
       "50%        0.000000  \n",
       "75%        0.000000  \n",
       "max        1.000000  "
      ]
     },
     "execution_count": 239,
     "metadata": {},
     "output_type": "execute_result"
    }
   ],
   "source": [
    "data.describe()"
   ]
  },
  {
   "cell_type": "code",
   "execution_count": 332,
   "metadata": {},
   "outputs": [
    {
     "data": {
      "text/plain": [
       "0.0    5728\n",
       "1.0    4473\n",
       "Name: Price Change, dtype: int64"
      ]
     },
     "execution_count": 332,
     "metadata": {},
     "output_type": "execute_result"
    }
   ],
   "source": [
    "data['Price Change'].value_counts()"
   ]
  },
  {
   "cell_type": "markdown",
   "metadata": {},
   "source": [
    "## Modeling with Scikit-Learn"
   ]
  },
  {
   "cell_type": "code",
   "execution_count": 308,
   "metadata": {},
   "outputs": [
    {
     "data": {
      "text/plain": [
       "Index(['Unnamed: 0', 'symbol', 'date', 'Sales Change',\n",
       "       'Net Profit Margin Change', 'EPS Change', 'prev_qtr_sales_change',\n",
       "       'prev_qtr_npm_change', 'prev_qtr_eps_change', 'Price Change'],\n",
       "      dtype='object')"
      ]
     },
     "execution_count": 308,
     "metadata": {},
     "output_type": "execute_result"
    }
   ],
   "source": [
    "data.columns"
   ]
  },
  {
   "cell_type": "code",
   "execution_count": 333,
   "metadata": {},
   "outputs": [
    {
     "name": "stdout",
     "output_type": "stream",
     "text": [
      "(10201, 6)\n",
      "(10201,)\n"
     ]
    }
   ],
   "source": [
    "X = data.drop(['Unnamed: 0', 'symbol', 'date', 'Price Change'], axis=1)\n",
    "y = data['Price Change']\n",
    "print(X.shape)\n",
    "print(y.shape)\n",
    "# print(X.head())\n",
    "# print(y.head())"
   ]
  },
  {
   "cell_type": "markdown",
   "metadata": {},
   "source": [
    "## Split the dataset into training and testing set"
   ]
  },
  {
   "cell_type": "code",
   "execution_count": 334,
   "metadata": {},
   "outputs": [
    {
     "name": "stdout",
     "output_type": "stream",
     "text": [
      "(7140, 6)\n",
      "(7140,)\n",
      "(3061, 6)\n",
      "(3061,)\n"
     ]
    }
   ],
   "source": [
    "X_train, X_test, y_train, y_test = train_test_split(X, y, test_size=0.3, random_state=5)\n",
    "print(X_train.shape)\n",
    "print(y_train.shape)\n",
    "print(X_test.shape)\n",
    "print(y_test.shape)"
   ]
  },
  {
   "cell_type": "markdown",
   "metadata": {},
   "source": [
    "## Expermenting with most common algorithms"
   ]
  },
  {
   "cell_type": "code",
   "execution_count": 335,
   "metadata": {},
   "outputs": [
    {
     "name": "stdout",
     "output_type": "stream",
     "text": [
      "Accuracy :  0.569095066971578\n",
      "Precision :  0.5217391304347826\n"
     ]
    }
   ],
   "source": [
    "#Normal classification with decision tree\n",
    "clf = DecisionTreeClassifier(max_depth=3)\n",
    "X_train, X_test, y_train, y_test = train_test_split(X, y, test_size=0.3, random_state=5)\n",
    "clf.fit(X_train, y_train)\n",
    "score = clf.score(X_test, y_test)\n",
    "print(\"Accuracy : \" , score)\n",
    "y_pred = clf.predict(X_test)\n",
    "precision = metrics.precision_score(y_test, y_pred, average='binary')\n",
    "print(\"Precision : \" , precision)"
   ]
  },
  {
   "cell_type": "code",
   "execution_count": 336,
   "metadata": {},
   "outputs": [
    {
     "name": "stdout",
     "output_type": "stream",
     "text": [
      "Accuracy :  0.49950996406403136\n",
      "Precision :  0.460475161987041\n"
     ]
    }
   ],
   "source": [
    "#Classification by minority upsampling\n",
    "clf = DecisionTreeClassifier(max_depth=3)\n",
    "X_train, X_test, y_train, y_test = train_test_split(X, y, test_size=0.3, random_state=5)\n",
    "X_ = pd.concat([X_train, y_train], axis=1)\n",
    "\n",
    "# separate minority and majority classes\n",
    "increase = X_[X_[\"Price Change\"]==1]\n",
    "decrease = X_[X_[\"Price Change\"]==0]\n",
    "\n",
    "# upsample minority\n",
    "increase_upsampled = resample(increase,\n",
    "                          replace=True, # sample with replacement\n",
    "                          n_samples=len(decrease), # match number in majority class\n",
    "                          random_state=27) # reproducible results\n",
    "\n",
    "# combine majority and upsampled minority\n",
    "upsampled = pd.concat([decrease, increase_upsampled])\n",
    "\n",
    "# trying logistic regression again with the balanced dataset\n",
    "y_train = upsampled['Price Change']\n",
    "X_train = upsampled.drop(['Price Change'], axis=1)\n",
    "\n",
    "clf.fit(X_train, y_train)\n",
    "score = clf.score(X_test, y_test)\n",
    "print(\"Accuracy : \" , score)\n",
    "y_pred = clf.predict(X_test)\n",
    "precision = metrics.precision_score(y_test, y_pred, average='binary')\n",
    "print(\"Precision : \" , precision)"
   ]
  },
  {
   "cell_type": "code",
   "execution_count": 301,
   "metadata": {},
   "outputs": [
    {
     "data": {
      "text/plain": [
       "0.0    3014\n",
       "1.0      47\n",
       "Name: Price Change, dtype: int64"
      ]
     },
     "execution_count": 301,
     "metadata": {},
     "output_type": "execute_result"
    }
   ],
   "source": [
    "y_test.value_counts()"
   ]
  },
  {
   "cell_type": "code",
   "execution_count": 248,
   "metadata": {},
   "outputs": [
    {
     "name": "stderr",
     "output_type": "stream",
     "text": [
      "/Users/jishadav/.virtualenvs/fundmaster/lib/python3.8/site-packages/sklearn/linear_model/_logistic.py:938: ConvergenceWarning: lbfgs failed to converge (status=1):\n",
      "STOP: TOTAL NO. of ITERATIONS REACHED LIMIT.\n",
      "\n",
      "Increase the number of iterations (max_iter) or scale the data as shown in:\n",
      "    https://scikit-learn.org/stable/modules/preprocessing.html\n",
      "Please also refer to the documentation for alternative solver options:\n",
      "    https://scikit-learn.org/stable/modules/linear_model.html#logistic-regression\n",
      "  n_iter_i = _check_optimize_result(\n"
     ]
    },
    {
     "name": "stdout",
     "output_type": "stream",
     "text": [
      "Logistic Regression  :  0.9827484806900608\n",
      "Nearest Neighbors  :  0.9823564007057439\n"
     ]
    },
    {
     "name": "stderr",
     "output_type": "stream",
     "text": [
      "/Users/jishadav/.virtualenvs/fundmaster/lib/python3.8/site-packages/sklearn/svm/_base.py:946: ConvergenceWarning: Liblinear failed to converge, increase the number of iterations.\n",
      "  warnings.warn(\"Liblinear failed to converge, increase \"\n"
     ]
    },
    {
     "name": "stdout",
     "output_type": "stream",
     "text": [
      "Linear SVM  :  0.9819643207214271\n",
      "RBF SVM  :  0.9829445206822192\n",
      "Decision Tree  :  0.9807880807684768\n",
      "Random Forest  :  0.9829445206822192\n",
      "Neural Net  :  0.9762791609488336\n",
      "AdaBoost  :  0.9827484806900608\n",
      "Naive Bayes  :  0.06979023720839052\n",
      "QDA  :  0.0660654773573809\n"
     ]
    }
   ],
   "source": [
    "classifiers = [\n",
    "    LogisticRegression(),\n",
    "    KNeighborsClassifier(3),\n",
    "    LinearSVC(random_state=0, tol=1e-5),\n",
    "    SVC(gamma=2, C=1),\n",
    "    DecisionTreeClassifier(max_depth=5),\n",
    "    RandomForestClassifier(max_depth=5, n_estimators=10, max_features=1),\n",
    "    MLPClassifier(alpha=1, max_iter=1000),\n",
    "    AdaBoostClassifier(),\n",
    "    GaussianNB(),\n",
    "    QuadraticDiscriminantAnalysis()]\n",
    "\n",
    "names = [\"Logistic Regression\", \"Nearest Neighbors\", \"Linear SVM\", \"RBF SVM\",\n",
    "         \"Decision Tree\", \"Random Forest\", \"Neural Net\", \"AdaBoost\",\n",
    "         \"Naive Bayes\", \"QDA\"]\n",
    "\n",
    "# iterate over classifiers\n",
    "for name, clf in zip(names, classifiers):\n",
    "    clf.fit(X_train, y_train)\n",
    "    score = clf.score(X_test, y_test)\n",
    "    \n",
    "    print(name , \" : \", score)"
   ]
  },
  {
   "cell_type": "markdown",
   "metadata": {},
   "source": [
    "## Stratified K-Fold Cross validation "
   ]
  },
  {
   "cell_type": "code",
   "execution_count": 263,
   "metadata": {},
   "outputs": [
    {
     "data": {
      "text/plain": [
       "5"
      ]
     },
     "execution_count": 263,
     "metadata": {},
     "output_type": "execute_result"
    }
   ],
   "source": [
    "sss = StratifiedShuffleSplit(n_splits=5, test_size=0.5, random_state=0)\n",
    "sss.get_n_splits(X, y)"
   ]
  },
  {
   "cell_type": "code",
   "execution_count": 268,
   "metadata": {},
   "outputs": [
    {
     "name": "stdout",
     "output_type": "stream",
     "text": [
      "0.9829445206822192\n",
      "0.0\n"
     ]
    }
   ],
   "source": [
    "clf = RandomForestClassifier(max_depth=5, n_estimators=10, max_features=1)\n",
    "scores = []\n",
    "for train_index, test_index in sss.split(X,y):\n",
    "#     print(\"Train Index: \", train_index)\n",
    "#     print(\"Test Index: \", test_index)\n",
    "\n",
    "    X_train, X_test, y_train, y_test = X[train_index], X[test_index], y[train_index], y[test_index]\n",
    "#     print(X_train.shape)\n",
    "#     print(X_test.shape)\n",
    "#     print(y_train.shape)\n",
    "#     print(y_test.shape)\n",
    "    clf.fit(X_train, y_train)\n",
    "    scores.append(clf.score(X_test, y_test))\n",
    "print(np.mean(scores))\n",
    "\n",
    "clf = RandomForestClassifier(max_depth=5, n_estimators=10, max_features=1)\n",
    "scores = []\n",
    "for train_index, test_index in sss.split(X,y):\n",
    "#     print(\"Train Index: \", train_index)\n",
    "#     print(\"Test Index: \", test_index)\n",
    "\n",
    "    X_train, X_test, y_train, y_test = X[train_index], X[test_index], y[train_index], y[test_index]\n",
    "    clf.fit(X_train, y_train)\n",
    "    y_pred = clf.predict(X_test)\n",
    "    scores.append(precision_score(y_test, y_pred, average='binary', zero_division=0))\n",
    "print(np.mean(scores))"
   ]
  },
  {
   "cell_type": "markdown",
   "metadata": {},
   "source": [
    "## Results\n",
    "\n",
    "Previous quarter change alone  \n",
    "        accuracy  - 0.5548323858067046\n",
    "        precision - 0.506757310984151\n",
    "\n",
    "Over the year change alone\n",
    "        accuracy  - 0.562007449519702\n",
    "        precision - 0.5010936027408055\n",
    "\n",
    "Both previous quarter and Over the year changes\n",
    "        accuracy  - 0.5680454812781808\n",
    "        precision - 0.5125012603295103"
   ]
  },
  {
   "cell_type": "code",
   "execution_count": null,
   "metadata": {},
   "outputs": [],
   "source": []
  }
 ],
 "metadata": {
  "kernelspec": {
   "display_name": "Python 3",
   "language": "python",
   "name": "python3"
  },
  "language_info": {
   "codemirror_mode": {
    "name": "ipython",
    "version": 3
   },
   "file_extension": ".py",
   "mimetype": "text/x-python",
   "name": "python",
   "nbconvert_exporter": "python",
   "pygments_lexer": "ipython3",
   "version": "3.8.2"
  }
 },
 "nbformat": 4,
 "nbformat_minor": 4
}
