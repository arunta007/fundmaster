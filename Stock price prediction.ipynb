{
 "cells": [
  {
   "cell_type": "code",
   "execution_count": 305,
   "metadata": {},
   "outputs": [],
   "source": [
    "import numpy as np\n",
    "import pandas as pd\n",
    "import seaborn as sns\n",
    "sns.set_palette('husl')\n",
    "import matplotlib.pyplot as plt\n",
    "%matplotlib inline\n",
    "\n",
    "from sklearn import metrics\n",
    "from sklearn.model_selection import train_test_split\n",
    "from sklearn.model_selection import StratifiedShuffleSplit, KFold\n",
    "from sklearn.utils import resample\n",
    "\n",
    "\n",
    "from sklearn.linear_model import LogisticRegression\n",
    "from sklearn.neural_network import MLPClassifier\n",
    "from sklearn.neighbors import KNeighborsClassifier\n",
    "from sklearn.svm import SVC\n",
    "from sklearn.svm import LinearSVC\n",
    "from sklearn.gaussian_process import GaussianProcessClassifier\n",
    "from sklearn.gaussian_process.kernels import RBF\n",
    "from sklearn.tree import DecisionTreeClassifier\n",
    "from sklearn.ensemble import RandomForestClassifier, AdaBoostClassifier\n",
    "from sklearn.naive_bayes import GaussianNB\n",
    "from sklearn.discriminant_analysis import QuadraticDiscriminantAnalysis"
   ]
  },
  {
   "cell_type": "code",
   "execution_count": 337,
   "metadata": {},
   "outputs": [],
   "source": [
    "#Loading the input dataset\n",
    "data = pd.read_csv('input_data_set_simple_price_range.csv')\n",
    "data = data.dropna().reset_index(drop=True)"
   ]
  },
  {
   "cell_type": "markdown",
   "metadata": {},
   "source": [
    "## Preview of Data"
   ]
  },
  {
   "cell_type": "code",
   "execution_count": 338,
   "metadata": {},
   "outputs": [
    {
     "data": {
      "text/html": [
       "<div>\n",
       "<style scoped>\n",
       "    .dataframe tbody tr th:only-of-type {\n",
       "        vertical-align: middle;\n",
       "    }\n",
       "\n",
       "    .dataframe tbody tr th {\n",
       "        vertical-align: top;\n",
       "    }\n",
       "\n",
       "    .dataframe thead th {\n",
       "        text-align: right;\n",
       "    }\n",
       "</style>\n",
       "<table border=\"1\" class=\"dataframe\">\n",
       "  <thead>\n",
       "    <tr style=\"text-align: right;\">\n",
       "      <th></th>\n",
       "      <th>Unnamed: 0</th>\n",
       "      <th>symbol</th>\n",
       "      <th>date</th>\n",
       "      <th>Sales Change</th>\n",
       "      <th>Net Profit Margin Change</th>\n",
       "      <th>EPS Change</th>\n",
       "      <th>prev_qtr_sales_change</th>\n",
       "      <th>prev_qtr_npm_change</th>\n",
       "      <th>prev_qtr_eps_change</th>\n",
       "      <th>Price Change</th>\n",
       "    </tr>\n",
       "  </thead>\n",
       "  <tbody>\n",
       "    <tr>\n",
       "      <th>0</th>\n",
       "      <td>0</td>\n",
       "      <td>3IINFOTECH</td>\n",
       "      <td>2015-06-30</td>\n",
       "      <td>-12.235698</td>\n",
       "      <td>-9.945304</td>\n",
       "      <td>8.854167</td>\n",
       "      <td>-12.508025</td>\n",
       "      <td>71.061079</td>\n",
       "      <td>74.415205</td>\n",
       "      <td>0.0</td>\n",
       "    </tr>\n",
       "    <tr>\n",
       "      <th>1</th>\n",
       "      <td>1</td>\n",
       "      <td>3IINFOTECH</td>\n",
       "      <td>2015-09-30</td>\n",
       "      <td>-22.356635</td>\n",
       "      <td>-43.559135</td>\n",
       "      <td>-4.945055</td>\n",
       "      <td>2.824997</td>\n",
       "      <td>-7.205874</td>\n",
       "      <td>-9.142857</td>\n",
       "      <td>1.0</td>\n",
       "    </tr>\n",
       "    <tr>\n",
       "      <th>2</th>\n",
       "      <td>2</td>\n",
       "      <td>3IINFOTECH</td>\n",
       "      <td>2015-12-31</td>\n",
       "      <td>170.689981</td>\n",
       "      <td>93.524927</td>\n",
       "      <td>83.163265</td>\n",
       "      <td>240.616080</td>\n",
       "      <td>79.254084</td>\n",
       "      <td>30.890052</td>\n",
       "      <td>0.0</td>\n",
       "    </tr>\n",
       "    <tr>\n",
       "      <th>3</th>\n",
       "      <td>3</td>\n",
       "      <td>3IINFOTECH</td>\n",
       "      <td>2016-03-31</td>\n",
       "      <td>190.766103</td>\n",
       "      <td>30.327574</td>\n",
       "      <td>-235.672515</td>\n",
       "      <td>-5.111910</td>\n",
       "      <td>-982.498732</td>\n",
       "      <td>-1639.393939</td>\n",
       "      <td>1.0</td>\n",
       "    </tr>\n",
       "    <tr>\n",
       "      <th>4</th>\n",
       "      <td>4</td>\n",
       "      <td>3IINFOTECH</td>\n",
       "      <td>2016-06-30</td>\n",
       "      <td>212.009294</td>\n",
       "      <td>106.364604</td>\n",
       "      <td>117.714286</td>\n",
       "      <td>-6.115915</td>\n",
       "      <td>102.643582</td>\n",
       "      <td>101.350174</td>\n",
       "      <td>1.0</td>\n",
       "    </tr>\n",
       "  </tbody>\n",
       "</table>\n",
       "</div>"
      ],
      "text/plain": [
       "   Unnamed: 0      symbol        date  Sales Change  Net Profit Margin Change  \\\n",
       "0           0  3IINFOTECH  2015-06-30    -12.235698                 -9.945304   \n",
       "1           1  3IINFOTECH  2015-09-30    -22.356635                -43.559135   \n",
       "2           2  3IINFOTECH  2015-12-31    170.689981                 93.524927   \n",
       "3           3  3IINFOTECH  2016-03-31    190.766103                 30.327574   \n",
       "4           4  3IINFOTECH  2016-06-30    212.009294                106.364604   \n",
       "\n",
       "   EPS Change  prev_qtr_sales_change  prev_qtr_npm_change  \\\n",
       "0    8.854167             -12.508025            71.061079   \n",
       "1   -4.945055               2.824997            -7.205874   \n",
       "2   83.163265             240.616080            79.254084   \n",
       "3 -235.672515              -5.111910          -982.498732   \n",
       "4  117.714286              -6.115915           102.643582   \n",
       "\n",
       "   prev_qtr_eps_change  Price Change  \n",
       "0            74.415205           0.0  \n",
       "1            -9.142857           1.0  \n",
       "2            30.890052           0.0  \n",
       "3         -1639.393939           1.0  \n",
       "4           101.350174           1.0  "
      ]
     },
     "execution_count": 338,
     "metadata": {},
     "output_type": "execute_result"
    }
   ],
   "source": [
    "data.head()"
   ]
  },
  {
   "cell_type": "code",
   "execution_count": 339,
   "metadata": {
    "scrolled": true
   },
   "outputs": [
    {
     "name": "stdout",
     "output_type": "stream",
     "text": [
      "<class 'pandas.core.frame.DataFrame'>\n",
      "RangeIndex: 10201 entries, 0 to 10200\n",
      "Data columns (total 10 columns):\n",
      " #   Column                    Non-Null Count  Dtype  \n",
      "---  ------                    --------------  -----  \n",
      " 0   Unnamed: 0                10201 non-null  int64  \n",
      " 1   symbol                    10201 non-null  object \n",
      " 2   date                      10201 non-null  object \n",
      " 3   Sales Change              10201 non-null  float64\n",
      " 4   Net Profit Margin Change  10201 non-null  float64\n",
      " 5   EPS Change                10201 non-null  float64\n",
      " 6   prev_qtr_sales_change     10201 non-null  float64\n",
      " 7   prev_qtr_npm_change       10201 non-null  float64\n",
      " 8   prev_qtr_eps_change       10201 non-null  float64\n",
      " 9   Price Change              10201 non-null  float64\n",
      "dtypes: float64(7), int64(1), object(2)\n",
      "memory usage: 797.1+ KB\n"
     ]
    }
   ],
   "source": [
    "data.info()"
   ]
  },
  {
   "cell_type": "code",
   "execution_count": 340,
   "metadata": {},
   "outputs": [
    {
     "data": {
      "text/html": [
       "<div>\n",
       "<style scoped>\n",
       "    .dataframe tbody tr th:only-of-type {\n",
       "        vertical-align: middle;\n",
       "    }\n",
       "\n",
       "    .dataframe tbody tr th {\n",
       "        vertical-align: top;\n",
       "    }\n",
       "\n",
       "    .dataframe thead th {\n",
       "        text-align: right;\n",
       "    }\n",
       "</style>\n",
       "<table border=\"1\" class=\"dataframe\">\n",
       "  <thead>\n",
       "    <tr style=\"text-align: right;\">\n",
       "      <th></th>\n",
       "      <th>Unnamed: 0</th>\n",
       "      <th>Sales Change</th>\n",
       "      <th>Net Profit Margin Change</th>\n",
       "      <th>EPS Change</th>\n",
       "      <th>prev_qtr_sales_change</th>\n",
       "      <th>prev_qtr_npm_change</th>\n",
       "      <th>prev_qtr_eps_change</th>\n",
       "      <th>Price Change</th>\n",
       "    </tr>\n",
       "  </thead>\n",
       "  <tbody>\n",
       "    <tr>\n",
       "      <th>count</th>\n",
       "      <td>10201.000000</td>\n",
       "      <td>10201.000000</td>\n",
       "      <td>10201.000000</td>\n",
       "      <td>10201.000000</td>\n",
       "      <td>10201.000000</td>\n",
       "      <td>10201.000000</td>\n",
       "      <td>10201.000000</td>\n",
       "      <td>10201.000000</td>\n",
       "    </tr>\n",
       "    <tr>\n",
       "      <th>mean</th>\n",
       "      <td>5101.716302</td>\n",
       "      <td>94.394253</td>\n",
       "      <td>45.504628</td>\n",
       "      <td>82.020755</td>\n",
       "      <td>24.143334</td>\n",
       "      <td>45.555629</td>\n",
       "      <td>61.550902</td>\n",
       "      <td>0.438486</td>\n",
       "    </tr>\n",
       "    <tr>\n",
       "      <th>std</th>\n",
       "      <td>2945.341132</td>\n",
       "      <td>1441.607107</td>\n",
       "      <td>2488.635221</td>\n",
       "      <td>3300.687124</td>\n",
       "      <td>532.932691</td>\n",
       "      <td>3495.877719</td>\n",
       "      <td>3520.963210</td>\n",
       "      <td>0.496226</td>\n",
       "    </tr>\n",
       "    <tr>\n",
       "      <th>min</th>\n",
       "      <td>0.000000</td>\n",
       "      <td>-99.699596</td>\n",
       "      <td>-30956.439833</td>\n",
       "      <td>-49600.000000</td>\n",
       "      <td>-99.451604</td>\n",
       "      <td>-35300.180220</td>\n",
       "      <td>-106900.000000</td>\n",
       "      <td>0.000000</td>\n",
       "    </tr>\n",
       "    <tr>\n",
       "      <th>25%</th>\n",
       "      <td>2552.000000</td>\n",
       "      <td>-0.968205</td>\n",
       "      <td>-27.051342</td>\n",
       "      <td>-29.032258</td>\n",
       "      <td>-5.723510</td>\n",
       "      <td>-25.031457</td>\n",
       "      <td>-28.708487</td>\n",
       "      <td>0.000000</td>\n",
       "    </tr>\n",
       "    <tr>\n",
       "      <th>50%</th>\n",
       "      <td>5102.000000</td>\n",
       "      <td>9.873000</td>\n",
       "      <td>2.034683</td>\n",
       "      <td>11.049724</td>\n",
       "      <td>2.499349</td>\n",
       "      <td>0.256506</td>\n",
       "      <td>2.928870</td>\n",
       "      <td>0.000000</td>\n",
       "    </tr>\n",
       "    <tr>\n",
       "      <th>75%</th>\n",
       "      <td>7652.000000</td>\n",
       "      <td>23.141814</td>\n",
       "      <td>38.283802</td>\n",
       "      <td>55.021834</td>\n",
       "      <td>11.586774</td>\n",
       "      <td>31.311556</td>\n",
       "      <td>42.196532</td>\n",
       "      <td>1.000000</td>\n",
       "    </tr>\n",
       "    <tr>\n",
       "      <th>max</th>\n",
       "      <td>10202.000000</td>\n",
       "      <td>86179.525547</td>\n",
       "      <td>213504.672594</td>\n",
       "      <td>311400.000000</td>\n",
       "      <td>40161.750205</td>\n",
       "      <td>335333.906692</td>\n",
       "      <td>263900.000000</td>\n",
       "      <td>1.000000</td>\n",
       "    </tr>\n",
       "  </tbody>\n",
       "</table>\n",
       "</div>"
      ],
      "text/plain": [
       "         Unnamed: 0  Sales Change  Net Profit Margin Change     EPS Change  \\\n",
       "count  10201.000000  10201.000000              10201.000000   10201.000000   \n",
       "mean    5101.716302     94.394253                 45.504628      82.020755   \n",
       "std     2945.341132   1441.607107               2488.635221    3300.687124   \n",
       "min        0.000000    -99.699596             -30956.439833  -49600.000000   \n",
       "25%     2552.000000     -0.968205                -27.051342     -29.032258   \n",
       "50%     5102.000000      9.873000                  2.034683      11.049724   \n",
       "75%     7652.000000     23.141814                 38.283802      55.021834   \n",
       "max    10202.000000  86179.525547             213504.672594  311400.000000   \n",
       "\n",
       "       prev_qtr_sales_change  prev_qtr_npm_change  prev_qtr_eps_change  \\\n",
       "count           10201.000000         10201.000000         10201.000000   \n",
       "mean               24.143334            45.555629            61.550902   \n",
       "std               532.932691          3495.877719          3520.963210   \n",
       "min               -99.451604        -35300.180220       -106900.000000   \n",
       "25%                -5.723510           -25.031457           -28.708487   \n",
       "50%                 2.499349             0.256506             2.928870   \n",
       "75%                11.586774            31.311556            42.196532   \n",
       "max             40161.750205        335333.906692        263900.000000   \n",
       "\n",
       "       Price Change  \n",
       "count  10201.000000  \n",
       "mean       0.438486  \n",
       "std        0.496226  \n",
       "min        0.000000  \n",
       "25%        0.000000  \n",
       "50%        0.000000  \n",
       "75%        1.000000  \n",
       "max        1.000000  "
      ]
     },
     "execution_count": 340,
     "metadata": {},
     "output_type": "execute_result"
    }
   ],
   "source": [
    "data.describe()"
   ]
  },
  {
   "cell_type": "code",
   "execution_count": 350,
   "metadata": {},
   "outputs": [
    {
     "data": {
      "text/plain": [
       "0.0    5728\n",
       "1.0    4473\n",
       "Name: Price Change, dtype: int64"
      ]
     },
     "execution_count": 350,
     "metadata": {},
     "output_type": "execute_result"
    }
   ],
   "source": [
    "data['Price Change'].value_counts()"
   ]
  },
  {
   "cell_type": "markdown",
   "metadata": {},
   "source": [
    "## Modeling with Scikit-Learn"
   ]
  },
  {
   "cell_type": "code",
   "execution_count": 342,
   "metadata": {
    "scrolled": true
   },
   "outputs": [
    {
     "data": {
      "text/plain": [
       "Index(['Unnamed: 0', 'symbol', 'date', 'Sales Change',\n",
       "       'Net Profit Margin Change', 'EPS Change', 'prev_qtr_sales_change',\n",
       "       'prev_qtr_npm_change', 'prev_qtr_eps_change', 'Price Change'],\n",
       "      dtype='object')"
      ]
     },
     "execution_count": 342,
     "metadata": {},
     "output_type": "execute_result"
    }
   ],
   "source": [
    "data.columns"
   ]
  },
  {
   "cell_type": "code",
   "execution_count": 355,
   "metadata": {},
   "outputs": [
    {
     "name": "stdout",
     "output_type": "stream",
     "text": [
      "(10201, 6)\n",
      "(10201,)\n"
     ]
    }
   ],
   "source": [
    "X = data.drop(['Unnamed: 0', 'symbol', 'date', 'Price Change'], axis=1)\n",
    "y = data['Price Change']\n",
    "print(X.shape)\n",
    "print(y.shape)\n",
    "# print(X.head())\n",
    "# print(y.head())"
   ]
  },
  {
   "cell_type": "markdown",
   "metadata": {},
   "source": [
    "## Split the dataset into training and testing set"
   ]
  },
  {
   "cell_type": "code",
   "execution_count": 344,
   "metadata": {},
   "outputs": [
    {
     "name": "stdout",
     "output_type": "stream",
     "text": [
      "(7140, 6)\n",
      "(7140,)\n",
      "(3061, 6)\n",
      "(3061,)\n"
     ]
    }
   ],
   "source": [
    "X_train, X_test, y_train, y_test = train_test_split(X, y, test_size=0.3, random_state=5)\n",
    "print(X_train.shape)\n",
    "print(y_train.shape)\n",
    "print(X_test.shape)\n",
    "print(y_test.shape)"
   ]
  },
  {
   "cell_type": "markdown",
   "metadata": {},
   "source": [
    "## Expermenting with most common algorithms"
   ]
  },
  {
   "cell_type": "code",
   "execution_count": 345,
   "metadata": {},
   "outputs": [
    {
     "name": "stdout",
     "output_type": "stream",
     "text": [
      "Accuracy :  0.569095066971578\n",
      "Precision :  0.5217391304347826\n"
     ]
    }
   ],
   "source": [
    "#Normal classification with decision tree\n",
    "clf = DecisionTreeClassifier(max_depth=3)\n",
    "X_train, X_test, y_train, y_test = train_test_split(X, y, test_size=0.3, random_state=5)\n",
    "clf.fit(X_train, y_train)\n",
    "score = clf.score(X_test, y_test)\n",
    "print(\"Accuracy : \" , score)\n",
    "y_pred = clf.predict(X_test)\n",
    "precision = metrics.precision_score(y_test, y_pred, average='binary')\n",
    "print(\"Precision : \" , precision)"
   ]
  },
  {
   "cell_type": "code",
   "execution_count": 358,
   "metadata": {},
   "outputs": [
    {
     "name": "stdout",
     "output_type": "stream",
     "text": [
      "Logistic Regression  :  0.5249918327344005\n",
      "Nearest Neighbors  :  0.5223783077425678\n"
     ]
    },
    {
     "name": "stderr",
     "output_type": "stream",
     "text": [
      "/Users/jishadav/.virtualenvs/fundmaster/lib/python3.8/site-packages/sklearn/svm/_base.py:946: ConvergenceWarning: Liblinear failed to converge, increase the number of iterations.\n",
      "  warnings.warn(\"Liblinear failed to converge, increase \"\n"
     ]
    },
    {
     "name": "stdout",
     "output_type": "stream",
     "text": [
      "Linear SVM  :  0.4828487422410977\n",
      "RBF SVM  :  0.5589676576282261\n",
      "Decision Tree  :  0.5445932701731461\n",
      "Random Forest  :  0.5449199607971251\n",
      "Neural Net  :  0.5289121202221496\n",
      "AdaBoost  :  0.5472067951649787\n",
      "Naive Bayes  :  0.5400196014374388\n",
      "QDA  :  0.5488402482848742\n"
     ]
    }
   ],
   "source": [
    "classifiers = [\n",
    "    LogisticRegression(),\n",
    "    KNeighborsClassifier(3),\n",
    "    LinearSVC(random_state=0, tol=1e-5),\n",
    "    SVC(gamma=2, C=1),\n",
    "    DecisionTreeClassifier(max_depth=5),\n",
    "    RandomForestClassifier(max_depth=5, n_estimators=10, max_features=1),\n",
    "    MLPClassifier(alpha=1, max_iter=1000),\n",
    "    AdaBoostClassifier(),\n",
    "    GaussianNB(),\n",
    "    QuadraticDiscriminantAnalysis()]\n",
    "\n",
    "names = [\"Logistic Regression\", \"Nearest Neighbors\", \"Linear SVM\", \"RBF SVM\",\n",
    "         \"Decision Tree\", \"Random Forest\", \"Neural Net\", \"AdaBoost\",\n",
    "         \"Naive Bayes\", \"QDA\"]\n",
    "\n",
    "# iterate over classifiers\n",
    "for name, clf in zip(names, classifiers):\n",
    "    clf.fit(X_train, y_train)\n",
    "    score = clf.score(X_test, y_test)\n",
    "    \n",
    "    print(name , \" : \", score)"
   ]
  },
  {
   "cell_type": "markdown",
   "metadata": {},
   "source": [
    "## Stratified K-Fold Cross validation "
   ]
  },
  {
   "cell_type": "code",
   "execution_count": 359,
   "metadata": {},
   "outputs": [
    {
     "data": {
      "text/plain": [
       "5"
      ]
     },
     "execution_count": 359,
     "metadata": {},
     "output_type": "execute_result"
    }
   ],
   "source": [
    "sss = StratifiedShuffleSplit(n_splits=5, test_size=0.5, random_state=0)\n",
    "sss.get_n_splits(X, y)"
   ]
  },
  {
   "cell_type": "code",
   "execution_count": 363,
   "metadata": {},
   "outputs": [
    {
     "name": "stdout",
     "output_type": "stream",
     "text": [
      "Average Score :  0.5779258968829641\n",
      "Average precision:  0.5321925678948123\n"
     ]
    }
   ],
   "source": [
    "X_numpy = X.to_numpy()\n",
    "y_numpy = y.to_numpy()\n",
    "clf = RandomForestClassifier(max_depth=5, n_estimators=10, max_features=1)\n",
    "scores = []\n",
    "precisions = []\n",
    "for train_index, test_index in sss.split(X_numpy,y_numpy):\n",
    "#     print(\"Train Index: \", train_index)\n",
    "#     print(\"Test Index: \", test_index)\n",
    "\n",
    "    X_train, X_test, y_train, y_test = X_numpy[train_index], X_numpy[test_index], y_numpy[train_index], y_numpy[test_index]\n",
    "#     print(X_train.shape)\n",
    "#     print(X_test.shape)\n",
    "#     print(y_train.shape)\n",
    "#     print(y_test.shape)\n",
    "    clf.fit(X_train, y_train)\n",
    "    scores.append(clf.score(X_test, y_test))\n",
    "    y_pred = clf.predict(X_test)\n",
    "    precisions.append(precision_score(y_test, y_pred, average='binary', zero_division=0))\n",
    "print(\"Average Score : \" , np.mean(scores))\n",
    "print(\"Average precision: \", np.mean(precisions))"
   ]
  },
  {
   "cell_type": "markdown",
   "metadata": {},
   "source": [
    "## Results\n",
    "\n",
    "Previous quarter change alone  \n",
    "        accuracy  - 0.5548323858067046\n",
    "        precision - 0.506757310984151\n",
    "\n",
    "Over the year change alone\n",
    "        accuracy  - 0.562007449519702\n",
    "        precision - 0.5010936027408055\n",
    "\n",
    "Both previous quarter and Over the year changes\n",
    "        accuracy  - 0.5680454812781808\n",
    "        precision - 0.5125012603295103"
   ]
  }
 ],
 "metadata": {
  "kernelspec": {
   "display_name": "Python 3",
   "language": "python",
   "name": "python3"
  },
  "language_info": {
   "codemirror_mode": {
    "name": "ipython",
    "version": 3
   },
   "file_extension": ".py",
   "mimetype": "text/x-python",
   "name": "python",
   "nbconvert_exporter": "python",
   "pygments_lexer": "ipython3",
   "version": "3.8.2"
  }
 },
 "nbformat": 4,
 "nbformat_minor": 4
}
